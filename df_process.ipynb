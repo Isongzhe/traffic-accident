{
 "cells": [
  {
   "cell_type": "code",
   "execution_count": 1,
   "metadata": {},
   "outputs": [],
   "source": [
    "import pandas as pd\n",
    "import os\n",
    "import numpy as np\n",
    "import matplotlib.pyplot as plt\n",
    "from matplotlib.font_manager import FontProperties\n",
    "plt.rcParams['font.sans-serif'] = ['Microsoft JhengHei'] \n",
    "plt.rcParams['axes.unicode_minus'] = False"
   ]
  },
  {
   "cell_type": "markdown",
   "metadata": {},
   "source": [
    "# 清理資料"
   ]
  },
  {
   "cell_type": "code",
   "execution_count": 10,
   "metadata": {},
   "outputs": [
    {
     "name": "stderr",
     "output_type": "stream",
     "text": [
      "C:\\Users\\user\\AppData\\Local\\Temp\\ipykernel_39788\\3345472020.py:31: FutureWarning: DataFrame.applymap has been deprecated. Use DataFrame.map instead.\n",
      "  set_index(file_path).applymap(clean_value).to_csv(file_path, index_label='統計期')\n",
      "C:\\Users\\user\\AppData\\Local\\Temp\\ipykernel_39788\\3345472020.py:31: FutureWarning: DataFrame.applymap has been deprecated. Use DataFrame.map instead.\n",
      "  set_index(file_path).applymap(clean_value).to_csv(file_path, index_label='統計期')\n",
      "C:\\Users\\user\\AppData\\Local\\Temp\\ipykernel_39788\\3345472020.py:31: FutureWarning: DataFrame.applymap has been deprecated. Use DataFrame.map instead.\n",
      "  set_index(file_path).applymap(clean_value).to_csv(file_path, index_label='統計期')\n",
      "C:\\Users\\user\\AppData\\Local\\Temp\\ipykernel_39788\\3345472020.py:31: FutureWarning: DataFrame.applymap has been deprecated. Use DataFrame.map instead.\n",
      "  set_index(file_path).applymap(clean_value).to_csv(file_path, index_label='統計期')\n",
      "C:\\Users\\user\\AppData\\Local\\Temp\\ipykernel_39788\\3345472020.py:31: FutureWarning: DataFrame.applymap has been deprecated. Use DataFrame.map instead.\n",
      "  set_index(file_path).applymap(clean_value).to_csv(file_path, index_label='統計期')\n"
     ]
    }
   ],
   "source": [
    "#資料清理的函式\n",
    "def clean_value(element):\n",
    "    if '-' in str(element): #將資料中'-'都轉成np.nan\n",
    "        return np.nan\n",
    "    elif ',' in str(element):\n",
    "        return float(str(element).replace(',', '')) #將資料中','都去掉\n",
    "    else:\n",
    "        return float(element)\n",
    "\n",
    "#讀檔並設定index的函式\n",
    "def set_index(folder_path):\n",
    "    #讀檔，將df只存在局部變數中\n",
    "    df = pd.read_csv(folder_path)\n",
    "    #將統計期訂為index，並整理資料集\n",
    "    df = df.rename(columns={df.columns[0]: '統計期'})\n",
    "    df.set_index(df['統計期'], inplace=True)\n",
    "    df = df.drop(['統計期'], axis=1)\n",
    "    \n",
    "    return df \n",
    "\n",
    "# 指定特定的資料夾路徑\n",
    "folder_path = './dataset/other_index/'\n",
    "# 獲取資料夾所有的檔案名稱\n",
    "file_names = os.listdir(folder_path)\n",
    "\n",
    "    \n",
    "for file_name in file_names:\n",
    "    if file_name.endswith('.csv'): \n",
    "        file_path = os.path.join(folder_path, file_name)\n",
    "        #資料處理\n",
    "        set_index(file_path).applymap(clean_value).to_csv(file_path, index_label='統計期')"
   ]
  },
  {
   "cell_type": "code",
   "execution_count": null,
   "metadata": {},
   "outputs": [],
   "source": [
    "folder_path = './dataset/processed_data/'\n",
    "file_name = '97-111.3 機動車輛登記數及道路交通事故.csv'\n",
    "df = pd.read_csv(folder_path + file_name)\n",
    "\n",
    "drop_list = ['機動車輛數(輛) - 總計', '機動車輛數(輛) - 汽車(不含軍車)', '機動車輛數(輛) - 機車','小客車-自用', '機車','統計期_y']\n",
    "df = df.drop(drop_list, axis=1) #df.drop() 方法的第一個參數應該是要刪除的行或列的標籤（label），而不是實際的數值。\n",
    "\n",
    "df.rename(columns={'總計':'總計車輛數'}, inplace=True)\n",
    "df.to_csv('./dataset/processed_data/97-111 A1事件預測資料集.csv',index=None)\n",
    "\n",
    "print(df.columns)"
   ]
  },
  {
   "cell_type": "markdown",
   "metadata": {},
   "source": [
    "# 合併資料集"
   ]
  },
  {
   "cell_type": "code",
   "execution_count": 1,
   "metadata": {},
   "outputs": [],
   "source": [
    "import pandas as pd\n",
    "import os\n",
    "\n",
    "# 指定特定的資料夾路徑\n",
    "folder_path = './dataset/a1_location/'\n",
    "# 獲取資料夾所有的檔案名稱\n",
    "file_names = os.listdir(folder_path)\n",
    "merged_data = pd.DataFrame() \n",
    "\n",
    "def read_csv(folder_path):\n",
    "    #讀檔，將df只存在局部變數中\n",
    "    df = pd.read_csv(folder_path)\n",
    "    return df \n",
    "for file_name in file_names:\n",
    "    if file_name.endswith('.csv'): \n",
    "        file_path = os.path.join(folder_path, file_name)\n",
    "        temp_data = read_csv(file_path)\n",
    "        merged_data = pd.concat([merged_data, temp_data], ignore_index=True)\n"
   ]
  },
  {
   "cell_type": "markdown",
   "metadata": {},
   "source": [
    "# 民國年轉西元年(ex:97年 1月==>2008-1)"
   ]
  },
  {
   "cell_type": "code",
   "execution_count": null,
   "metadata": {},
   "outputs": [],
   "source": [
    "# # 指定特定的資料夾路徑\n",
    "# folder_path = './dataset/processed_data/'\n",
    "# # 獲取資料夾所有的檔案名稱\n",
    "# file_names = os.listdir(folder_path)\n",
    "\n",
    "    \n",
    "# for file_name in file_names:\n",
    "#     if file_name.endswith('.csv'): \n",
    "#         file_path = os.path.join(folder_path, file_name)\n",
    "#         #資料處理\n",
    "#         set_index(file_path).applymap(clean_value).to_csv(file_path, index_label='統計期')"
   ]
  },
  {
   "cell_type": "code",
   "execution_count": 36,
   "metadata": {},
   "outputs": [],
   "source": [
    "processed_dates = []  # 儲存處理後的日期字串\n",
    "\n",
    "for date_str in df['統計期']:\n",
    "    parts = str(date_str)  # 將 date_str 轉換為字串\n",
    "    parts = parts.split('年')\n",
    "    year = int(parts[0])+ 1911\n",
    "    date_str = str(year) + '年' +parts[1]\n",
    "    processed_dates.append(date_str)\n",
    "processed_dates = pd.to_datetime(processed_dates, format='%Y年%M月').strftime('%Y-%M')\n",
    "df['統計期'] = processed_dates"
   ]
  },
  {
   "cell_type": "code",
   "execution_count": null,
   "metadata": {},
   "outputs": [],
   "source": [
    "import pandas as pd\n",
    "df = pd.read_csv('./dataset/processed_data/97-111 每百萬人道路交通受傷人數(人).csv', index_col=0)\n",
    "file_names = ['97-111 道路交通受傷人數(人)','97-111 道路交通事故件數(件)','97-111 道路交通死亡人數(人)']\n",
    "for file_name in file_names:\n",
    "    print(file_name)\n",
    "    temp_df = pd.read_csv('./dataset/processed_data/{}.csv'.format(file_name), index_col=0)\n",
    "    temp_df.index =  df.index\n",
    "    temp_df.to_csv('./dataset/processed_data/{}.csv'.format(file_name))"
   ]
  }
 ],
 "metadata": {
  "kernelspec": {
   "display_name": "DataAnalysis",
   "language": "python",
   "name": "python3"
  },
  "language_info": {
   "codemirror_mode": {
    "name": "ipython",
    "version": 3
   },
   "file_extension": ".py",
   "mimetype": "text/x-python",
   "name": "python",
   "nbconvert_exporter": "python",
   "pygments_lexer": "ipython3",
   "version": "3.11.6"
  }
 },
 "nbformat": 4,
 "nbformat_minor": 2
}
